{
 "cells": [
  {
   "cell_type": "code",
   "execution_count": 53,
   "id": "ce8f3a10",
   "metadata": {},
   "outputs": [],
   "source": [
    "class FingerprintKey:\n",
    "    def __init__(self, key, ti):\n",
    "        self.key = key # (fi, fj, delta_t)\n",
    "        self.ti = ti # Absolute start point\n",
    "\n",
    "class SongRecord:\n",
    "    def __init__(self, song, ti):\n",
    "        self.song = song\n",
    "        self.ti = ti # Relative (Original_song.ti - Sample_Recording.ti)\n",
    "    \n",
    "    def __repr__(self):\n",
    "        return \"(\" + str(self.song) + \" \" + str(self.ti) + \")\""
   ]
  },
  {
   "cell_type": "code",
   "execution_count": 54,
   "id": "b096306c",
   "metadata": {},
   "outputs": [],
   "source": [
    "# key: tuple of (f_i, f_j, t_j - t_i)\n",
    "# value: [(\"Song-A\", t_i), ..., (\"Song-B\", t_i)]\n",
    "\n",
    "fanout = 4\n",
    "\n",
    "# f = 100, t = 10\n",
    "# f = 150, t = 12\n",
    "# f = 300, t = 15\n",
    "# f = 70,  t = 23\n",
    "# f = 90,  t = 27\n",
    "# f = 250, t = 36\n",
    "# f = 171, t = 37\n",
    "# f = 52,  t = 50\n",
    "# f = 314, t = 62\n",
    "\n",
    "song_names = [\"Song-A\", \"Song-B\", \"Song-C\"]\n",
    "\n",
    "f_t_values = [[(100, 10), (150, 12), (300, 15), (70, 23), (90, 27), (250, 36), (171, 37), (52, 50), (314, 62)],\n",
    "              [(50, 7), (200, 8), (92, 25), (10, 30), (100, 33), (228, 48), (342, 70), (57, 82), (159, 90)],\n",
    "              [(115, 14), (76, 23), (100, 30), (150, 32), (1002, 34), (921, 36), (83, 40), (37, 42), (265, 64)]]\n",
    "\n",
    "N_songs = len(song_names)\n",
    "\n",
    "database = {}\n",
    "\n",
    "for s in range(len(song_names)):\n",
    "    N = len(f_t_values[s])\n",
    "    song_name = song_names[s]\n",
    "    for i in range(N):\n",
    "        for j in range(1, fanout+1):\n",
    "            if i+j >= N:\n",
    "                break\n",
    "            f_i = f_t_values[s][i]\n",
    "            f_j = f_t_values[s][i+j]\n",
    "\n",
    "            dt = f_j[1] - f_i[1]\n",
    "            key = (f_i[0], f_j[0], dt)\n",
    "            fpk = FingerprintKey(key, f_i[1]) # fingerprint key\n",
    "            sr = SongRecord(song_name, f_i[1]) # song record\n",
    "\n",
    "            if fpk.key in database:\n",
    "                database[fpk.key].append(sr)\n",
    "            else:\n",
    "                database[fpk.key] = [sr]\n"
   ]
  },
  {
   "cell_type": "code",
   "execution_count": 55,
   "id": "89c66013",
   "metadata": {},
   "outputs": [
    {
     "data": {
      "text/plain": [
       "{(100, 150, 2): [(Song-A 10), (Song-C 30)],\n",
       " (100, 300, 5): [(Song-A 10)],\n",
       " (100, 70, 13): [(Song-A 10)],\n",
       " (100, 90, 17): [(Song-A 10)],\n",
       " (150, 300, 3): [(Song-A 12)],\n",
       " (150, 70, 11): [(Song-A 12)],\n",
       " (150, 90, 15): [(Song-A 12)],\n",
       " (150, 250, 24): [(Song-A 12)],\n",
       " (300, 70, 8): [(Song-A 15)],\n",
       " (300, 90, 12): [(Song-A 15)],\n",
       " (300, 250, 21): [(Song-A 15)],\n",
       " (300, 171, 22): [(Song-A 15)],\n",
       " (70, 90, 4): [(Song-A 23)],\n",
       " (70, 250, 13): [(Song-A 23)],\n",
       " (70, 171, 14): [(Song-A 23)],\n",
       " (70, 52, 27): [(Song-A 23)],\n",
       " (90, 250, 9): [(Song-A 27)],\n",
       " (90, 171, 10): [(Song-A 27)],\n",
       " (90, 52, 23): [(Song-A 27)],\n",
       " (90, 314, 35): [(Song-A 27)],\n",
       " (250, 171, 1): [(Song-A 36)],\n",
       " (250, 52, 14): [(Song-A 36)],\n",
       " (250, 314, 26): [(Song-A 36)],\n",
       " (171, 52, 13): [(Song-A 37)],\n",
       " (171, 314, 25): [(Song-A 37)],\n",
       " (52, 314, 12): [(Song-A 50)],\n",
       " (50, 200, 1): [(Song-B 7)],\n",
       " (50, 92, 18): [(Song-B 7)],\n",
       " (50, 10, 23): [(Song-B 7)],\n",
       " (50, 100, 26): [(Song-B 7)],\n",
       " (200, 92, 17): [(Song-B 8)],\n",
       " (200, 10, 22): [(Song-B 8)],\n",
       " (200, 100, 25): [(Song-B 8)],\n",
       " (200, 228, 40): [(Song-B 8)],\n",
       " (92, 10, 5): [(Song-B 25)],\n",
       " (92, 100, 8): [(Song-B 25)],\n",
       " (92, 228, 23): [(Song-B 25)],\n",
       " (92, 342, 45): [(Song-B 25)],\n",
       " (10, 100, 3): [(Song-B 30)],\n",
       " (10, 228, 18): [(Song-B 30)],\n",
       " (10, 342, 40): [(Song-B 30)],\n",
       " (10, 57, 52): [(Song-B 30)],\n",
       " (100, 228, 15): [(Song-B 33)],\n",
       " (100, 342, 37): [(Song-B 33)],\n",
       " (100, 57, 49): [(Song-B 33)],\n",
       " (100, 159, 57): [(Song-B 33)],\n",
       " (228, 342, 22): [(Song-B 48)],\n",
       " (228, 57, 34): [(Song-B 48)],\n",
       " (228, 159, 42): [(Song-B 48)],\n",
       " (342, 57, 12): [(Song-B 70)],\n",
       " (342, 159, 20): [(Song-B 70)],\n",
       " (57, 159, 8): [(Song-B 82)],\n",
       " (115, 76, 9): [(Song-C 14)],\n",
       " (115, 100, 16): [(Song-C 14)],\n",
       " (115, 150, 18): [(Song-C 14)],\n",
       " (115, 1002, 20): [(Song-C 14)],\n",
       " (76, 100, 7): [(Song-C 23)],\n",
       " (76, 150, 9): [(Song-C 23)],\n",
       " (76, 1002, 11): [(Song-C 23)],\n",
       " (76, 921, 13): [(Song-C 23)],\n",
       " (100, 1002, 4): [(Song-C 30)],\n",
       " (100, 921, 6): [(Song-C 30)],\n",
       " (100, 83, 10): [(Song-C 30)],\n",
       " (150, 1002, 2): [(Song-C 32)],\n",
       " (150, 921, 4): [(Song-C 32)],\n",
       " (150, 83, 8): [(Song-C 32)],\n",
       " (150, 37, 10): [(Song-C 32)],\n",
       " (1002, 921, 2): [(Song-C 34)],\n",
       " (1002, 83, 6): [(Song-C 34)],\n",
       " (1002, 37, 8): [(Song-C 34)],\n",
       " (1002, 265, 30): [(Song-C 34)],\n",
       " (921, 83, 4): [(Song-C 36)],\n",
       " (921, 37, 6): [(Song-C 36)],\n",
       " (921, 265, 28): [(Song-C 36)],\n",
       " (83, 37, 2): [(Song-C 40)],\n",
       " (83, 265, 24): [(Song-C 40)],\n",
       " (37, 265, 22): [(Song-C 42)]}"
      ]
     },
     "execution_count": 55,
     "metadata": {},
     "output_type": "execute_result"
    }
   ],
   "source": [
    "database"
   ]
  },
  {
   "cell_type": "code",
   "execution_count": 56,
   "id": "515c8feb",
   "metadata": {},
   "outputs": [
    {
     "data": {
      "text/plain": [
       "2"
      ]
     },
     "execution_count": 56,
     "metadata": {},
     "output_type": "execute_result"
    }
   ],
   "source": [
    "len(database[(100, 150, 2)])"
   ]
  },
  {
   "cell_type": "code",
   "execution_count": 57,
   "id": "9d432cba",
   "metadata": {},
   "outputs": [],
   "source": [
    "my_sample = [FingerprintKey((92, 10, 5), 2), FingerprintKey((921, 265, 28), 2), FingerprintKey((1002, 921, 2), 0)]"
   ]
  },
  {
   "cell_type": "code",
   "execution_count": 70,
   "id": "200f3fc1",
   "metadata": {},
   "outputs": [],
   "source": [
    "from collections import Counter\n",
    "\n",
    "def compare(sample_fingerprints, database, threshold = 0):\n",
    "    '''\n",
    "    Takes sample_fingerprints and matches them with database.\n",
    "    Returns song that it found or None if no song was found.\n",
    "    \n",
    "    sample_fingerprints: A list of FingerprintKey objects for the song sample\n",
    "    \n",
    "    database: The database of fingerprints to compare, with the keys are FingerprintKey objects and value of SongRecord objects\n",
    "    '''\n",
    "    #make song_counter\n",
    "    song_counter = Counter()\n",
    "    for fingerprint in sample_fingerprints:\n",
    "        #print(\"Fingerprint:\", fingerprint)\n",
    "        #print(\"Found Finger:\", )\n",
    "        if fingerprint.key in database: #if a match is found\n",
    "            possible_songs = database[fingerprint.key]\n",
    "            song_records = []\n",
    "            for song_record in possible_songs: # put all the possible songs in the database\n",
    "                new_song_record = (song_record.song, song_record.ti - fingerprint.ti)\n",
    "                song_records.append(new_song_record)\n",
    "            song_counter.update(song_records)\n",
    "    print(\"Song Tally:\", song_counter)\n",
    "    result, tally = song_counter.most_common(1)[0]\n",
    "    print(\"Highest Tally:\", tally)\n",
    "    print(\"Corresponding Song_Record object:\", result)\n",
    "    if tally >= threshold:\n",
    "        return result[0] # return song_id\n",
    "    else:\n",
    "        return \"Song Not Found!\""
   ]
  },
  {
   "cell_type": "code",
   "execution_count": 71,
   "id": "724fdb97",
   "metadata": {},
   "outputs": [
    {
     "name": "stdout",
     "output_type": "stream",
     "text": [
      "Song Tally: Counter({('Song-C', 34): 2, ('Song-B', 23): 1})\n",
      "Highest Tally: 2\n",
      "Corresponding Song_Record object: ('Song-C', 34)\n"
     ]
    },
    {
     "data": {
      "text/plain": [
       "'Song-C'"
      ]
     },
     "execution_count": 71,
     "metadata": {},
     "output_type": "execute_result"
    }
   ],
   "source": [
    "compare(my_sample, database)"
   ]
  },
  {
   "cell_type": "code",
   "execution_count": null,
   "id": "956d3c6a",
   "metadata": {},
   "outputs": [],
   "source": []
  },
  {
   "cell_type": "code",
   "execution_count": null,
   "id": "40227e6c",
   "metadata": {},
   "outputs": [],
   "source": []
  }
 ],
 "metadata": {
  "kernelspec": {
   "display_name": "Python 3",
   "language": "python",
   "name": "python3"
  },
  "language_info": {
   "codemirror_mode": {
    "name": "ipython",
    "version": 3
   },
   "file_extension": ".py",
   "mimetype": "text/x-python",
   "name": "python",
   "nbconvert_exporter": "python",
   "pygments_lexer": "ipython3",
   "version": "3.8.10"
  }
 },
 "nbformat": 4,
 "nbformat_minor": 5
}
