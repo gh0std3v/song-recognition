{
 "cells": [
  {
   "cell_type": "code",
   "execution_count": 9,
   "id": "851211b9",
   "metadata": {},
   "outputs": [],
   "source": [
    "import numpy as np\n",
    "import librosa\n",
    "import matplotlib.pyplot as plt\n",
    "import matplotlib.mlab as mlab\n",
    "from typing import List, Tuple, Dict\n",
    "from microphone import record_audio\n",
    "\n",
    "%matplotlib notebook"
   ]
  },
  {
   "cell_type": "code",
   "execution_count": 24,
   "id": "3cd2db57",
   "metadata": {},
   "outputs": [],
   "source": [
    "class FingerprintKey:\n",
    "    def __init__(self, key, ti):\n",
    "        self.key = key # (fi, fj, delta_t)\n",
    "        self.ti = ti\n",
    "\n",
    "def load_audio(song_name):\n",
    "    '''\n",
    "    Return the recorded audio and sampling_rate as a Tuple\n",
    "    '''\n",
    "    return librosa.load(song_name)\n",
    "\n",
    "def get_spectrogram(recorded_audio, sampling_rate):\n",
    "    '''\n",
    "    Return the spectrogram corresponding to `recorded_audio` with `sampling_rate` as the sampling_rate\n",
    "    '''\n",
    "    return mlab.specgram(recorded_audio,\n",
    "                            NFFT=4096,\n",
    "                            Fs=sampling_rate,\n",
    "                            window=mlab.window_hanning,\n",
    "                            noverlap=4096//2,\n",
    "                            mode='magnitude')\n",
    "\n",
    "\n",
    "def put_database(fingerprint_database: Dict[str, str], song_database: List[Tuple[str, str, str]], fingerprint, song):\n",
    "    fingerprint_database[fingerprint] = song\n",
    "    song_database.append(song)"
   ]
  },
  {
   "cell_type": "code",
   "execution_count": 25,
   "id": "7603207d",
   "metadata": {},
   "outputs": [
    {
     "name": "stderr",
     "output_type": "stream",
     "text": [
      "/Users/ssharma/opt/anaconda3/lib/python3.8/site-packages/librosa/core/audio.py:165: UserWarning: PySoundFile failed. Trying audioread instead.\n",
      "  warnings.warn(\"PySoundFile failed. Trying audioread instead.\")\n"
     ]
    },
    {
     "data": {
      "text/plain": [
       "(array([[0.00000000e+00, 0.00000000e+00, 2.04819625e-12, ...,\n",
       "         2.23299283e-05, 1.91901538e-05, 1.16650308e-05],\n",
       "        [0.00000000e+00, 0.00000000e+00, 2.04818595e-12, ...,\n",
       "         1.21937431e-05, 1.13162338e-05, 8.89274677e-06],\n",
       "        [0.00000000e+00, 0.00000000e+00, 2.04815506e-12, ...,\n",
       "         1.18398302e-06, 4.36650477e-06, 4.78612868e-06],\n",
       "        ...,\n",
       "        [0.00000000e+00, 0.00000000e+00, 1.25211013e-13, ...,\n",
       "         2.39122794e-09, 1.22186508e-09, 2.36473664e-10],\n",
       "        [0.00000000e+00, 0.00000000e+00, 1.24643755e-13, ...,\n",
       "         2.50600144e-09, 1.16038117e-09, 8.72642420e-11],\n",
       "        [0.00000000e+00, 0.00000000e+00, 1.24454325e-13, ...,\n",
       "         1.83981492e-09, 3.97419020e-10, 8.70001810e-12]]),\n",
       " array([0.00000000e+00, 5.38330078e+00, 1.07666016e+01, ...,\n",
       "        1.10142334e+04, 1.10196167e+04, 1.10250000e+04]),\n",
       " array([9.28798186e-02, 1.85759637e-01, 2.78639456e-01, ...,\n",
       "        2.65914921e+02, 2.66007800e+02, 2.66100680e+02]))"
      ]
     },
     "execution_count": 25,
     "metadata": {},
     "output_type": "execute_result"
    }
   ],
   "source": [
    "recorded_audio, sampling_rate = load_audio('songs/Rasputin.mp3')\n",
    "get_spectrogram(recorded_audio, sampling_rate)"
   ]
  }
 ],
 "metadata": {
  "kernelspec": {
   "display_name": "Python 3",
   "language": "python",
   "name": "python3"
  },
  "language_info": {
   "codemirror_mode": {
    "name": "ipython",
    "version": 3
   },
   "file_extension": ".py",
   "mimetype": "text/x-python",
   "name": "python",
   "nbconvert_exporter": "python",
   "pygments_lexer": "ipython3",
   "version": "3.8.5"
  }
 },
 "nbformat": 4,
 "nbformat_minor": 5
}
