{
 "cells": [
  {
   "cell_type": "markdown",
   "id": "8a4ea04e",
   "metadata": {},
   "source": [
    "# Imports"
   ]
  },
  {
   "cell_type": "code",
   "execution_count": 11,
   "id": "db849c2c",
   "metadata": {},
   "outputs": [],
   "source": [
    "import numpy as np\n",
    "import librosa\n",
    "import matplotlib.pyplot as plt\n",
    "import matplotlib.mlab as mlab\n",
    "from scipy.ndimage.morphology import generate_binary_structure, binary_erosion # for local neighborhoof\n",
    "from scipy.ndimage.morphology import iterate_structure # for local neighborhood\n",
    "\n",
    "from typing import Tuple, Callable, List\n",
    "from typing import List, Tuple, Dict\n",
    "from microphone import record_audio\n",
    "\n",
    "import pickle\n",
    "\n",
    "%matplotlib notebook"
   ]
  },
  {
   "cell_type": "markdown",
   "id": "bdc1175b",
   "metadata": {},
   "source": [
    "# Custom Classes"
   ]
  },
  {
   "cell_type": "code",
   "execution_count": 12,
   "id": "38aa7a1b",
   "metadata": {},
   "outputs": [],
   "source": [
    "class FingerprintKey:\n",
    "    def __init__(self, key, ti):\n",
    "        self.key = key # (fi, fj, delta_t)\n",
    "        self.ti = ti # Absolute start point\n",
    "\n",
    "class SongRecord:\n",
    "    def __init__(self, song, ti):\n",
    "        self.song = song\n",
    "        self.ti = ti # Relative (Original_song.ti - Sample_Recording.ti)\n",
    "    \n",
    "    def __repr__(self):\n",
    "        return \"(\" + str(self.song) + \" \" + str(self.ti) + \")\"\n"
   ]
  },
  {
   "cell_type": "markdown",
   "id": "45561282",
   "metadata": {},
   "source": [
    "# Peak Finding Functions"
   ]
  },
  {
   "cell_type": "code",
   "execution_count": 13,
   "id": "a9e472e9",
   "metadata": {},
   "outputs": [],
   "source": [
    "from numba import njit\n",
    "\n",
    "# `@njit` \"decorates\" the `_peaks` function. This tells Numba to\n",
    "# compile this function using the \"low level virtual machine\" (LLVM)\n",
    "# compiler. The resulting object is a Python function that, when called,\n",
    "# executes optimized machine code instead of the Python code\n",
    "# \n",
    "# The code used in _peaks adheres strictly to the subset of Python and\n",
    "# NumPy that is supported by Numba's jit. This is a requirement in order\n",
    "# for Numba to know how to compile this function to more efficient\n",
    "# instructions for the machine to execute\n",
    "@njit\n",
    "def _peaks(\n",
    "    data_2d: np.ndarray, rows: np.ndarray, cols: np.ndarray, amp_min: float\n",
    ") -> List[Tuple[int, int]]:\n",
    "    \"\"\"\n",
    "    A Numba-optimized 2-D peak-finding algorithm.\n",
    "    \n",
    "    Parameters\n",
    "    ----------\n",
    "    data_2d : numpy.ndarray, shape-(H, W)\n",
    "        The 2D array of data in which local peaks will be detected.\n",
    "\n",
    "    rows : numpy.ndarray, shape-(N,)\n",
    "        The 0-centered row indices of the local neighborhood mask\n",
    "    \n",
    "    cols : numpy.ndarray, shape-(N,)\n",
    "        The 0-centered column indices of the local neighborhood mask\n",
    "        \n",
    "    amp_min : float\n",
    "        All amplitudes at and below this value are excluded from being local \n",
    "        peaks.\n",
    "    \n",
    "    Returns\n",
    "    -------\n",
    "    List[Tuple[int, int]]\n",
    "        (row, col) index pair for each local peak location. \n",
    "    \"\"\"\n",
    "    peaks = []  # stores the (row, col) locations of all the local peaks\n",
    "\n",
    "    # Iterate over the 2-D data in col-major order\n",
    "    # we want to see if there is a local peak located at\n",
    "    # row=r, col=c\n",
    "\n",
    "    for c, r in np.ndindex(*data_2d.shape[::-1]):\n",
    "        if data_2d[r, c] <= amp_min:\n",
    "            # The amplitude falls beneath the minimum threshold\n",
    "            # thus this can't be a peak.\n",
    "            continue\n",
    "        \n",
    "        # Iterating over the neighborhood centered on (r, c)\n",
    "        # dr: displacement from r\n",
    "        # dc: discplacement from c\n",
    "        for dr, dc in zip(rows, cols):\n",
    "            if dr == 0 and dc == 0:\n",
    "                # This would compare (r, c) with itself.. skip!\n",
    "                continue\n",
    "\n",
    "            if not (0 <= r + dr < data_2d.shape[0]):\n",
    "                # neighbor falls outside of boundary\n",
    "                continue\n",
    "\n",
    "            # mirror over array boundary\n",
    "            if not (0 <= c + dc < data_2d.shape[1]):\n",
    "                # neighbor falls outside of boundary\n",
    "                continue\n",
    "\n",
    "            if data_2d[r, c] < data_2d[r + dr, c + dc]:\n",
    "                # One of the amplitudes within the neighborhood\n",
    "                # is larger, thus data_2d[r, c] cannot be a peak\n",
    "                break\n",
    "        else:\n",
    "            # if we did not break from the for-loop then (r, c) is a peak\n",
    "            peaks.append((r, c))\n",
    "    return peaks\n",
    "\n",
    "# `local_peak_locations` is responsible for taking in the boolean mask `neighborhood`\n",
    "# and converting it to a form that can be used by `_peaks`. This \"outer\" code is \n",
    "# not compatible with Numba which is why we end up using two functions:\n",
    "# `local_peak_locations` does some initial pre-processing that is not compatible with\n",
    "# Numba, and then it calls `_peaks` which contains all of the jit-compatible code\n",
    "def local_peak_locations(data_2d: np.ndarray, neighborhood: np.ndarray, amp_min: float):\n",
    "    \"\"\"\n",
    "    Defines a local neighborhood and finds the local peaks\n",
    "    in the spectrogram, which must be larger than the specified `amp_min`.\n",
    "    \n",
    "    Parameters\n",
    "    ----------\n",
    "    data_2d : numpy.ndarray, shape-(H, W)\n",
    "        The 2D array of data in which local peaks will be detected\n",
    "    \n",
    "    neighborhood : numpy.ndarray, shape-(h, w)\n",
    "        A boolean mask indicating the \"neighborhood\" in which each\n",
    "        datum will be assessed to determine whether or not it is\n",
    "        a local peak. h and w must be odd-valued numbers\n",
    "        \n",
    "    amp_min : float\n",
    "        All amplitudes at and below this value are excluded from being local \n",
    "        peaks.\n",
    "    \n",
    "    Returns\n",
    "    -------\n",
    "    List[Tuple[int, int]]\n",
    "        (row, col) index pair for each local peak location.\n",
    "    \n",
    "    Notes\n",
    "    -----\n",
    "    Neighborhoods that overlap with the boundary are mirrored across the boundary.\n",
    "    \n",
    "    The local peaks are returned in column-major order.\n",
    "    \"\"\"\n",
    "    \n",
    "    rows, cols = np.where(neighborhood)\n",
    "    \n",
    "    assert neighborhood.shape[0] % 2 == 1\n",
    "    assert neighborhood.shape[1] % 2 == 1\n",
    "\n",
    "    # center neighborhood indices around center of neighborhood\n",
    "    rows -= neighborhood.shape[0] // 2\n",
    "    \n",
    "    cols -= neighborhood.shape[1] // 2\n",
    "    \n",
    "\n",
    "    return _peaks(data_2d, rows, cols, amp_min=amp_min)\n",
    "\n",
    "def local_peaks_mask(data: np.ndarray, cutoff: float) -> np.ndarray:\n",
    "    \"\"\"Find local peaks in a 2D array of data.\n",
    "\n",
    "    Parameters\n",
    "    ----------\n",
    "    data : numpy.ndarray, shape-(H, W)\n",
    "\n",
    "    cutoff : float\n",
    "         A threshold value that distinguishes background from foreground\n",
    "\n",
    "    Returns\n",
    "    -------\n",
    "    Binary indicator, of the same shape as `data`. The value of\n",
    "    1 indicates a local peak.\"\"\"\n",
    "    # Generate a rank-2, connectivity-2 binary mask\n",
    "    neighborhood_mask = iterate_structure(generate_binary_structure(rank = 2, connectivity = 1), 20)  # <COGLINE>\n",
    "    \n",
    "\n",
    "    # Use that neighborhood to find the local peaks in `data`.\n",
    "    # Pass `cutoff` as `amp_min` to `local_peak_locations`.\n",
    "    peak_locations = local_peak_locations(data, neighborhood_mask, cutoff)  # <COGLINE>\n",
    "   \n",
    "    \n",
    "\n",
    "    # Turns the list of (row, col) peak locations into a shape-(N_peak, 2) array\n",
    "    # Save the result to the variable `peak_locations`\n",
    "    #peak_locations = np.array(peak_locations)\n",
    "\n",
    "    # create a mask of zeros with the same shape as `data`\n",
    "    \n",
    "    #mask = np.zeros(data.shape, dtype=bool)\n",
    "\n",
    "    # populate the local peaks with `1`\n",
    "    #mask[peak_locations[:, 0], peak_locations[:, 1]] = 1\n",
    "    return peak_locations"
   ]
  },
  {
   "cell_type": "markdown",
   "id": "0127b55f",
   "metadata": {},
   "source": [
    "# Database Creation Functions"
   ]
  },
  {
   "cell_type": "code",
   "execution_count": 14,
   "id": "52a4d0b9",
   "metadata": {},
   "outputs": [],
   "source": [
    "def load_audio(song_name):\n",
    "    '''\n",
    "    Return the recorded audio and sampling_rate as a Tuple\n",
    "    '''\n",
    "\n",
    "    #length = 60  # seconds\n",
    "\n",
    "    length = 10\n",
    "    \n",
    "    return librosa.load(song_name, sr = 44100, duration = length)\n",
    "\n",
    "\n",
    "\n",
    "\n",
    "def get_spectrogram(recorded_audio, sampling_rate):\n",
    "    '''\n",
    "    Return the spectrogram corresponding to `recorded_audio` with `sampling_rate` as the sampling_rate\n",
    "    '''\n",
    "   \n",
    "    return mlab.specgram(recorded_audio,\n",
    "                            NFFT=4096,\n",
    "                            Fs=sampling_rate,\n",
    "                            window=mlab.window_hanning,\n",
    "                            noverlap=4096//2,\n",
    "                            mode='magnitude')\n",
    "\n",
    "# make list \"peaks\" of all peaks, iterate through them with a fanout value and constructa fingerprint\n",
    "def construct_fingerprint(peaks: List[Tuple[int, int]]) -> List[FingerprintKey]:\n",
    "    \n",
    "    #IMPORTANT: need to find the index for the first peak in our temporal window and start iterating from there\n",
    "\n",
    "    \"\"\"\n",
    "    Parameters\n",
    "    ----------\n",
    "    peak: List of tuples for peak location, the first value \n",
    "    being the peak and the second value being \n",
    "    the time at which it occured. \n",
    "\n",
    "    peak is the output of  local_peak_locations\n",
    "\n",
    "    Returns\n",
    "    -------\n",
    "    A list of FingerPrintKey objects that make up the whole fingerprint for some peak. This list will be stored in\n",
    "    the database through the function put_database\n",
    "\n",
    "    \"\"\"\n",
    "\n",
    "    fanout = 15\n",
    "    fingerprint = []\n",
    "    #start_index = 0 #need to find the index for the first peak in our temporal window and start iterating from there\n",
    "    \n",
    "    # find location of first peak in the list\n",
    "    \n",
    "    for start_index in range(0, len(peaks)-fanout-1): \n",
    "        for i in range(start_index + 1, start_index + fanout + 1):\n",
    "\n",
    "            # compare peak time to the next 15 peaks\n",
    "            abs_time = peaks[start_index][1] # the time of the first peak recorded\n",
    "            peak, time = peaks[i]\n",
    "            next_peak, next_time = peaks[i + 1]\n",
    "            _print = FingerprintKey((peak, next_peak, next_time - abs_time), abs_time)\n",
    "            fingerprint.append(_print)\n",
    "    \n",
    "    return fingerprint \n",
    "\n",
    "def put_database(fingerprint_database: Dict[FingerprintKey, List[SongRecord]], song_database: List[SongRecord], fingerprint: FingerprintKey, song: SongRecord):\n",
    "    '''\n",
    "    Put a song and fingerprint in the database\n",
    "    '''\n",
    "    if fingerprint.key not in fingerprint_database:\n",
    "        fingerprint_database[fingerprint.key] = []\n",
    "    fingerprint_database[fingerprint.key].append(song)\n",
    "    song_database.append(song)\n",
    "\n",
    "def fill_database(song_names: List[str], fingerprint_database: Dict[FingerprintKey, SongRecord], song_database: List[SongRecord]):\n",
    "    '''\n",
    "    Fill the database given the fingerprint database, song database,\n",
    "    and a list of song names (file path to songs).\n",
    "    '''\n",
    "    for s in range(len(song_names)):\n",
    "        recorded_audio, sampling_rate = load_audio(song_names[s])\n",
    "        spectrogram, freqs, times = get_spectrogram(recorded_audio, sampling_rate)\n",
    "        cutoff = get_cutoff(spectrogram)\n",
    "        peaks = local_peaks_mask(spectrogram, cutoff)\n",
    "        fingerprint_keys = construct_fingerprint(peaks)\n",
    "        for fingerprint in fingerprint_keys:\n",
    "            sr = SongRecord(s, fingerprint.ti)\n",
    "            put_database(fingerprint_database, song_database, fingerprint, sr)\n",
    "\n",
    "def get_cutoff(S):\n",
    "    '''\n",
    "    Get cutoff of spectrogram\n",
    "    '''\n",
    "    \n",
    "    S = S.ravel() # flatten array\n",
    "    ind = round(len(S) * 0.75)\n",
    "    cutoff_log_amplitude = np.partition(S, ind)[ind]\n",
    "    return cutoff_log_amplitude\n",
    "    \n",
    "    # Log-based cutoff\n",
    "    '''log_S = np.log(S).ravel()  # flattened array\n",
    "    ind = round(len(log_S) * 0.75)\n",
    "    cutoff_log_amplitude = np.partition(log_S, ind)[ind]\n",
    "    return np.exp(cutoff_log_amplitude)'''\n",
    "    "
   ]
  },
  {
   "cell_type": "markdown",
   "id": "16985a97",
   "metadata": {},
   "source": [
    "# Database Creation Process"
   ]
  },
  {
   "cell_type": "markdown",
   "id": "41622483",
   "metadata": {},
   "source": [
    "### Song Names Defining"
   ]
  },
  {
   "cell_type": "code",
   "execution_count": 15,
   "id": "f06c1711",
   "metadata": {},
   "outputs": [],
   "source": [
    "song_names = [\"Blah, Blah, Blah\", \"Hotel California\", \"Life In The Fast Lane\", \"Billie Jean\", \"Good 4 U\",\n",
    "              \"Rasputin\", \"Walking On The Sun\", \"You Belong With Me\", \"Our Song\", \"Turn Back Time\", \"Good Life\",\n",
    "              \"Stitches\", \"Breakeven\"]\n",
    "\n",
    "name_to_artist = {\"Blah, Blah, Blah\" : \"Armin van Buuren\", \"Hotel California\" : \"Eagles\", \"Life In The Fast Lane\" : \"Eagles\",\n",
    "                  \"Billie Jean\" : \"Michael Jackson\", \"Good 4 U\" : \"Olivia Rodrigo\", \"Rasputin\" : \"Boney M.\",\n",
    "                  \"Walking On The Sun\" : \"Smashmouth\", \"You Belong With Me\" : \"Taylor Swift\", \"Our Song\" : \"Anne_marie, Niall Horan\",\n",
    "                  \"Turn Back Time\" : \"Daniel Schulz\", \"Good Life\" : \"OneRepublic\", \"Stitches\" : \"Shawn Mendes\", \"Breakeven\" : \"The Script\"}\n",
    "\n",
    "name_to_file = {\"Blah, Blah, Blah\" : \"blah_blah_blah.m4a\", \"Hotel California\" : \"hotel_california.mp3\",\n",
    "                \"Life In The Fast Lane\" : \"life_in_the_fast_lane.mp3\",\n",
    "                  \"Billie Jean\" : \"billie_jean.mp3\", \"Good 4 U\" : \"good_4_u.mp3\",\n",
    "                \"Rasputin\" : \"rasputin.mp3\",\n",
    "                  \"Walking On The Sun\" : \"walking_on_the_sun.mp3\", \n",
    "                \"You Belong With Me\" : \"you_belong_with_me.mp3\",\n",
    "                \"Our Song\" : \"our_song.mp3\",\n",
    "                  \"Turn Back Time\" : \"turn_back_time.mp3\",\n",
    "                \"Good Life\" : \"good_life.mp3\",\n",
    "                \"Stitches\" : \"stitches.mp3\",\n",
    "                \"Breakeven\" : \"breakeven.mp3\"}\n"
   ]
  },
  {
   "cell_type": "markdown",
   "id": "18341599",
   "metadata": {},
   "source": [
    "### Parsing"
   ]
  },
  {
   "cell_type": "code",
   "execution_count": 16,
   "id": "e3e6a328",
   "metadata": {},
   "outputs": [
    {
     "name": "stderr",
     "output_type": "stream",
     "text": [
      "/Users/ssharma/opt/anaconda3/lib/python3.8/site-packages/librosa/core/audio.py:165: UserWarning: PySoundFile failed. Trying audioread instead.\n",
      "  warnings.warn(\"PySoundFile failed. Trying audioread instead.\")\n",
      "/Users/ssharma/opt/anaconda3/lib/python3.8/site-packages/librosa/core/audio.py:165: UserWarning: PySoundFile failed. Trying audioread instead.\n",
      "  warnings.warn(\"PySoundFile failed. Trying audioread instead.\")\n",
      "/Users/ssharma/opt/anaconda3/lib/python3.8/site-packages/librosa/core/audio.py:165: UserWarning: PySoundFile failed. Trying audioread instead.\n",
      "  warnings.warn(\"PySoundFile failed. Trying audioread instead.\")\n",
      "/Users/ssharma/opt/anaconda3/lib/python3.8/site-packages/librosa/core/audio.py:165: UserWarning: PySoundFile failed. Trying audioread instead.\n",
      "  warnings.warn(\"PySoundFile failed. Trying audioread instead.\")\n",
      "/Users/ssharma/opt/anaconda3/lib/python3.8/site-packages/librosa/core/audio.py:165: UserWarning: PySoundFile failed. Trying audioread instead.\n",
      "  warnings.warn(\"PySoundFile failed. Trying audioread instead.\")\n",
      "/Users/ssharma/opt/anaconda3/lib/python3.8/site-packages/librosa/core/audio.py:165: UserWarning: PySoundFile failed. Trying audioread instead.\n",
      "  warnings.warn(\"PySoundFile failed. Trying audioread instead.\")\n",
      "/Users/ssharma/opt/anaconda3/lib/python3.8/site-packages/librosa/core/audio.py:165: UserWarning: PySoundFile failed. Trying audioread instead.\n",
      "  warnings.warn(\"PySoundFile failed. Trying audioread instead.\")\n",
      "/Users/ssharma/opt/anaconda3/lib/python3.8/site-packages/librosa/core/audio.py:165: UserWarning: PySoundFile failed. Trying audioread instead.\n",
      "  warnings.warn(\"PySoundFile failed. Trying audioread instead.\")\n",
      "/Users/ssharma/opt/anaconda3/lib/python3.8/site-packages/librosa/core/audio.py:165: UserWarning: PySoundFile failed. Trying audioread instead.\n",
      "  warnings.warn(\"PySoundFile failed. Trying audioread instead.\")\n",
      "/Users/ssharma/opt/anaconda3/lib/python3.8/site-packages/librosa/core/audio.py:165: UserWarning: PySoundFile failed. Trying audioread instead.\n",
      "  warnings.warn(\"PySoundFile failed. Trying audioread instead.\")\n",
      "/Users/ssharma/opt/anaconda3/lib/python3.8/site-packages/librosa/core/audio.py:165: UserWarning: PySoundFile failed. Trying audioread instead.\n",
      "  warnings.warn(\"PySoundFile failed. Trying audioread instead.\")\n",
      "/Users/ssharma/opt/anaconda3/lib/python3.8/site-packages/librosa/core/audio.py:165: UserWarning: PySoundFile failed. Trying audioread instead.\n",
      "  warnings.warn(\"PySoundFile failed. Trying audioread instead.\")\n",
      "/Users/ssharma/opt/anaconda3/lib/python3.8/site-packages/librosa/core/audio.py:165: UserWarning: PySoundFile failed. Trying audioread instead.\n",
      "  warnings.warn(\"PySoundFile failed. Trying audioread instead.\")\n"
     ]
    }
   ],
   "source": [
    "#recorded_audio, sampling_rate = load_audio(\"song_library/\" + [for name in song_names name_to_file[name] ] )\n",
    "\n",
    "song_paths = [\"song_library/\"+name_to_file[name] for name in song_names] \n",
    "\n",
    "fingerprint_database = dict()\n",
    "song_database = []\n",
    "\n",
    "fill_database(song_paths, fingerprint_database, song_database)"
   ]
  },
  {
   "cell_type": "markdown",
   "id": "ccdd52ff",
   "metadata": {},
   "source": [
    "### Saving Database into a File"
   ]
  },
  {
   "cell_type": "code",
   "execution_count": 17,
   "id": "c1959b57",
   "metadata": {},
   "outputs": [],
   "source": [
    "# assuming 'database' has already been created\n",
    "def create_database(fingerprint_database):\n",
    "    with open(\"database.pkl\", \"wb\") as file:\n",
    "        pickle.dump(fingerprint_database, file)"
   ]
  },
  {
   "cell_type": "markdown",
   "id": "4af46375",
   "metadata": {},
   "source": [
    "### Loading Database for Use"
   ]
  },
  {
   "cell_type": "code",
   "execution_count": 18,
   "id": "56146565",
   "metadata": {},
   "outputs": [],
   "source": [
    "def load_database():\n",
    "    with open(\"database.pkl\", \"rb\") as file:\n",
    "        fingerprint_database = pickle.load(file)\n",
    "        return fingerprint_database"
   ]
  },
  {
   "cell_type": "markdown",
   "id": "47c9cbda",
   "metadata": {},
   "source": [
    "# Obtaining User Recording"
   ]
  },
  {
   "cell_type": "code",
   "execution_count": 19,
   "id": "5d925ba8",
   "metadata": {},
   "outputs": [],
   "source": [
    "from microphone import record_audio\n",
    "\n",
    "def listen_audio():\n",
    "    listen_time = 10\n",
    "    frames, sample_rate = record_audio(listen_time)\n",
    "    recorded_audio = np.hstack([np.frombuffer(i, np.int16) for i in frames])\n",
    "    return (recorded_audio, sample_rate)"
   ]
  },
  {
   "cell_type": "markdown",
   "id": "a3e3e1ed",
   "metadata": {},
   "source": [
    "### Compute user recording --> fingerprints"
   ]
  },
  {
   "cell_type": "code",
   "execution_count": 20,
   "id": "45fb3bf4",
   "metadata": {},
   "outputs": [],
   "source": [
    "def compute_fingerprint(recorded_audio, sampling_rate):\n",
    "    spectrogram, freq, times = get_spectrogram(recorded_audio, sampling_rate)\n",
    "    cutoff = get_cutoff(spectrogram)\n",
    "    peaks = local_peaks_mask(spectrogram, cutoff)\n",
    "    fingerprint_keys = construct_fingerprint(peaks)\n",
    "    return fingerprint_keys"
   ]
  },
  {
   "cell_type": "code",
   "execution_count": 21,
   "id": "9a990055",
   "metadata": {},
   "outputs": [
    {
     "ename": "NameError",
     "evalue": "name 'recorded_audio' is not defined",
     "output_type": "error",
     "traceback": [
      "\u001b[0;31m---------------------------------------------------------------------------\u001b[0m",
      "\u001b[0;31mNameError\u001b[0m                                 Traceback (most recent call last)",
      "\u001b[0;32m<ipython-input-21-6ef06013e80a>\u001b[0m in \u001b[0;36m<module>\u001b[0;34m\u001b[0m\n\u001b[0;32m----> 1\u001b[0;31m \u001b[0msample_fingerprints\u001b[0m \u001b[0;34m=\u001b[0m \u001b[0mcompute_fingerprint\u001b[0m\u001b[0;34m(\u001b[0m\u001b[0mrecorded_audio\u001b[0m\u001b[0;34m,\u001b[0m \u001b[0msampling_rate\u001b[0m\u001b[0;34m)\u001b[0m\u001b[0;34m\u001b[0m\u001b[0;34m\u001b[0m\u001b[0m\n\u001b[0m",
      "\u001b[0;31mNameError\u001b[0m: name 'recorded_audio' is not defined"
     ]
    }
   ],
   "source": [
    "sample_fingerprints = compute_fingerprint(recorded_audio, sampling_rate)"
   ]
  },
  {
   "cell_type": "markdown",
   "id": "aa61ce7f",
   "metadata": {},
   "source": [
    "# Compare Sample_Fingerprints with Fingerprint Database"
   ]
  },
  {
   "cell_type": "code",
   "execution_count": 16,
   "id": "5d053d52",
   "metadata": {},
   "outputs": [],
   "source": [
    "from collections import Counter\n",
    "\n",
    "def compare(sample_fingerprints, database, threshold = 0):\n",
    "    '''\n",
    "    Takes sample_fingerprints and matches them with database.\n",
    "    Returns song that it found or None if no song was found.\n",
    "    \n",
    "    sample_fingerprints: A list of FingerprintKey objects for the song sample\n",
    "    \n",
    "    database: The database (dictionary) of fingerprints to compare, with the keys are FingerprintKey objects and value of SongRecord objects\n",
    "    '''\n",
    "    #make song_counter\n",
    "    song_counter = Counter()\n",
    "    for fingerprint in sample_fingerprints:\n",
    "        #print(\"Fingerprint:\", fingerprint)\n",
    "        #print(\"Found Finger:\", )\n",
    "        if fingerprint.key in database: #if a match is found\n",
    "            possible_songs = database[fingerprint.key]\n",
    "            song_records = []\n",
    "            for song_record in possible_songs: # put all the possible songs in the database\n",
    "                new_song_record = (song_record.song, song_record.ti - fingerprint.ti)\n",
    "                song_records.append(new_song_record)\n",
    "            song_counter.update(song_records)\n",
    "    #print(\"Song Tally:\", song_counter)\n",
    "    try:\n",
    "        result, tally = song_counter.most_common(1)[0]\n",
    "        #print(\"Highest Tally:\", tally)\n",
    "        #print(\"Corresponding Song_Record object:\", result)\n",
    "        if tally >= threshold:\n",
    "            return result[0] # return song_id\n",
    "        else:\n",
    "            return \"Song Not Found!\"\n",
    "    except (Exception, IndexError):\n",
    "        print(\"Song Not Found!\")\n"
   ]
  },
  {
   "cell_type": "code",
   "execution_count": 17,
   "id": "60a98da1",
   "metadata": {},
   "outputs": [
    {
     "name": "stdout",
     "output_type": "stream",
     "text": [
      "Song Tally: Counter({(4, 7): 922})\n",
      "Highest Tally: 922\n",
      "Corresponding Song_Record object: (4, 7)\n"
     ]
    },
    {
     "data": {
      "text/plain": [
       "4"
      ]
     },
     "execution_count": 17,
     "metadata": {},
     "output_type": "execute_result"
    }
   ],
   "source": [
    "result = compare(sample_fingerprints, fingerprint_database)"
   ]
  },
  {
   "cell_type": "code",
   "execution_count": 2,
   "id": "e5225c4b",
   "metadata": {},
   "outputs": [
    {
     "ename": "NameError",
     "evalue": "name 'song_names' is not defined",
     "output_type": "error",
     "traceback": [
      "\u001b[0;31m---------------------------------------------------------------------------\u001b[0m",
      "\u001b[0;31mNameError\u001b[0m                                 Traceback (most recent call last)",
      "\u001b[0;32m<ipython-input-2-6d577f6a56e6>\u001b[0m in \u001b[0;36m<module>\u001b[0;34m\u001b[0m\n\u001b[0;32m----> 1\u001b[0;31m \u001b[0mprint\u001b[0m\u001b[0;34m(\u001b[0m\u001b[0;34m\"{} by {}\"\u001b[0m\u001b[0;34m.\u001b[0m\u001b[0mformat\u001b[0m\u001b[0;34m(\u001b[0m\u001b[0msong_names\u001b[0m\u001b[0;34m[\u001b[0m\u001b[0mresult\u001b[0m\u001b[0;34m]\u001b[0m\u001b[0;34m,\u001b[0m \u001b[0mname_to_artist\u001b[0m\u001b[0;34m[\u001b[0m\u001b[0msong_names\u001b[0m\u001b[0;34m[\u001b[0m\u001b[0mresult\u001b[0m\u001b[0;34m]\u001b[0m\u001b[0;34m]\u001b[0m\u001b[0;34m)\u001b[0m\u001b[0;34m)\u001b[0m\u001b[0;34m\u001b[0m\u001b[0;34m\u001b[0m\u001b[0m\n\u001b[0m",
      "\u001b[0;31mNameError\u001b[0m: name 'song_names' is not defined"
     ]
    }
   ],
   "source": [
    "print(\"{} by {}\".format(song_names[result], name_to_artist[song_names[result]]))"
   ]
  }
 ],
 "metadata": {
  "kernelspec": {
   "display_name": "Python 3",
   "language": "python",
   "name": "python3"
  },
  "language_info": {
   "codemirror_mode": {
    "name": "ipython",
    "version": 3
   },
   "file_extension": ".py",
   "mimetype": "text/x-python",
   "name": "python",
   "nbconvert_exporter": "python",
   "pygments_lexer": "ipython3",
   "version": "3.8.5"
  }
 },
 "nbformat": 4,
 "nbformat_minor": 5
}
