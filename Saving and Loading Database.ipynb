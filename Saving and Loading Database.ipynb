{
 "cells": [
  {
   "cell_type": "code",
   "execution_count": 2,
   "id": "8a966d14",
   "metadata": {},
   "outputs": [],
   "source": [
    "import pickle"
   ]
  },
  {
   "cell_type": "code",
   "execution_count": null,
   "id": "f76292c7",
   "metadata": {},
   "outputs": [],
   "source": [
    "# assuming 'database' has already been created\n",
    "file = open(\"database.pkl\", \"wb\")\n",
    "pickle.dump(database, file)\n",
    "file.close()"
   ]
  },
  {
   "cell_type": "code",
   "execution_count": null,
   "id": "ae89f3ce",
   "metadata": {},
   "outputs": [],
   "source": [
    "file = open(\"database.pkl\", \"rb\")\n",
    "output = pickle.load(file)\n",
    "print(len(output))"
   ]
  }
 ],
 "metadata": {
  "kernelspec": {
   "display_name": "Python 3",
   "language": "python",
   "name": "python3"
  },
  "language_info": {
   "codemirror_mode": {
    "name": "ipython",
    "version": 3
   },
   "file_extension": ".py",
   "mimetype": "text/x-python",
   "name": "python",
   "nbconvert_exporter": "python",
   "pygments_lexer": "ipython3",
   "version": "3.8.10"
  }
 },
 "nbformat": 4,
 "nbformat_minor": 5
}
